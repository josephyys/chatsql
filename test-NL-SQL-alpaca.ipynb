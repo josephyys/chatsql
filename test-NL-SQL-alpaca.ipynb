{
 "cells": [
  {
   "cell_type": "code",
   "execution_count": null,
   "id": "99b1880d-fe78-437e-a88d-f813f7528c02",
   "metadata": {},
   "outputs": [],
   "source": [
    "!pip install git+https://github.com/huggingface/transformers.git\n",
    "!pip install deepspeed==0.6.5\n",
    "!pip install accelerate\n",
    "!pip install sentencepiece\n",
    "!pip install langchain\n",
    "!pip install torch\n",
    "!pip install bitsandbytes"
   ]
  },
  {
   "cell_type": "code",
   "execution_count": 1,
   "id": "d14a16a0-b7df-40a7-9f68-3004d9caf69b",
   "metadata": {},
   "outputs": [
    {
     "name": "stdout",
     "output_type": "stream",
     "text": [
      "[2023-08-23 16:18:02,286] [WARNING] [partition_parameters.py:60:<module>] unable to find torch.distributed._all_gather_base. will fall back to torch.distributed.all_gather which will result in suboptimal performance. please consider upgrading your pytorch installation.\n"
     ]
    }
   ],
   "source": [
    "import os\n",
    "import deepspeed\n",
    "import torch\n"
   ]
  },
  {
   "cell_type": "code",
   "execution_count": null,
   "id": "dd164ac4-50b4-4c86-a59c-9f56dff7bc12",
   "metadata": {},
   "outputs": [],
   "source": [
    "!pip uninstall torch -y\n",
    "!pip install torch==1.5"
   ]
  },
  {
   "cell_type": "code",
   "execution_count": 5,
   "id": "ffd58897-519d-42c4-8640-4d36791775cc",
   "metadata": {},
   "outputs": [
    {
     "name": "stdout",
     "output_type": "stream",
     "text": [
      "True\n",
      "4\n",
      "NVIDIA GeForce GTX 1080 Ti\n"
     ]
    }
   ],
   "source": [
    "print(torch.cuda.is_available())\n",
    "print(torch.cuda.device_count())\n",
    "print(torch.cuda.get_device_name(0))"
   ]
  },
  {
   "cell_type": "code",
   "execution_count": 1,
   "id": "81144e5f-db0f-4078-aa3f-94d2fe4e241e",
   "metadata": {},
   "outputs": [
    {
     "name": "stdout",
     "output_type": "stream",
     "text": [
      "2.0.1+cu117\n"
     ]
    }
   ],
   "source": [
    "import torch\n",
    "print(torch.__version__)\n"
   ]
  },
  {
   "cell_type": "markdown",
   "id": "89e5f76d-c912-4c95-b819-896ddcee8ef2",
   "metadata": {},
   "source": [
    "transformer --> deepseed\n",
    "accelerate --> deepseed"
   ]
  },
  {
   "cell_type": "code",
   "execution_count": 9,
   "id": "b714c8b5-9f6e-4bdb-9a35-223ea080646e",
   "metadata": {},
   "outputs": [],
   "source": [
    "from transformers import LlamaTokenizer, LlamaForCausalLM, pipeline\n"
   ]
  },
  {
   "cell_type": "code",
   "execution_count": 3,
   "id": "be45cd79-9cc1-449e-8373-300e80ba37b1",
   "metadata": {},
   "outputs": [],
   "source": [
    "from langchain.llms import HuggingFacePipeline"
   ]
  },
  {
   "cell_type": "code",
   "execution_count": null,
   "id": "0caf9340-8a64-4515-90df-646ff3dab381",
   "metadata": {},
   "outputs": [],
   "source": []
  },
  {
   "cell_type": "code",
   "execution_count": 4,
   "id": "47a2689d-e378-493a-ad83-7dc71f0308d4",
   "metadata": {},
   "outputs": [
    {
     "name": "stdout",
     "output_type": "stream",
     "text": [
      "4.30.0\n"
     ]
    }
   ],
   "source": [
    "import transformers\n",
    "print(transformers.__version__)"
   ]
  },
  {
   "cell_type": "markdown",
   "id": "9f19781d-b5f6-4af4-b237-ae8ff4df9659",
   "metadata": {},
   "source": [
    "[deeepspeed need torch 1, not install]\n",
    "\n",
    "accelerate and others need torch 2\n",
    "transformers==4.30"
   ]
  },
  {
   "cell_type": "code",
   "execution_count": 5,
   "id": "bc86fa6c-5cb0-4e9f-b589-c7f6ebc6cb65",
   "metadata": {},
   "outputs": [
    {
     "data": {
      "application/vnd.jupyter.widget-view+json": {
       "model_id": "35df2316c7a14ccab7cc15bb052edd04",
       "version_major": 2,
       "version_minor": 0
      },
      "text/plain": [
       "Loading checkpoint shards:   0%|          | 0/3 [00:00<?, ?it/s]"
      ]
     },
     "metadata": {},
     "output_type": "display_data"
    }
   ],
   "source": [
    "base_model = LlamaForCausalLM.from_pretrained(\n",
    "    \"chavinlo/alpaca-native\",\n",
    "    load_in_8bit=True,\n",
    "    device_map='auto',\n",
    ")"
   ]
  },
  {
   "cell_type": "code",
   "execution_count": 6,
   "id": "f9193cd7-e378-4ab8-9a70-19a6db0b0907",
   "metadata": {},
   "outputs": [],
   "source": [
    "import scipy"
   ]
  },
  {
   "cell_type": "markdown",
   "id": "c7d8afe5-a8d8-403e-a7c3-be692982687d",
   "metadata": {},
   "source": [
    "66% =>\n",
    "/dev/sdb2       439G  282G  135G  68% /\n"
   ]
  },
  {
   "cell_type": "code",
   "execution_count": 7,
   "id": "dac4af10-1ce7-4e22-a7f5-f758713e8feb",
   "metadata": {},
   "outputs": [
    {
     "data": {
      "application/vnd.jupyter.widget-view+json": {
       "model_id": "fea8029e4aeb4c5c91c88f04701e5a05",
       "version_major": 2,
       "version_minor": 0
      },
      "text/plain": [
       "Downloading tokenizer.model:   0%|          | 0.00/500k [00:00<?, ?B/s]"
      ]
     },
     "metadata": {},
     "output_type": "display_data"
    },
    {
     "data": {
      "application/vnd.jupyter.widget-view+json": {
       "model_id": "80a9cc73ef7a4281b5bc863e282c8341",
       "version_major": 2,
       "version_minor": 0
      },
      "text/plain": [
       "Downloading (…)okenizer_config.json:   0%|          | 0.00/335 [00:00<?, ?B/s]"
      ]
     },
     "metadata": {},
     "output_type": "display_data"
    }
   ],
   "source": [
    "tokenizer = LlamaTokenizer.from_pretrained(\"chavinlo/alpaca-native\")"
   ]
  },
  {
   "cell_type": "code",
   "execution_count": 12,
   "id": "6cf56d0d-b49a-402f-a920-759ad717f942",
   "metadata": {},
   "outputs": [],
   "source": [
    "from langchain import PromptTemplate, LLMChain\n",
    "template = \"\"\"\n",
    "Write a SQL Query given the table name {Table} and columns as a list {Columns} for the given question : \n",
    "{question}.\n",
    "\"\"\"\n",
    "\n",
    "prompt = PromptTemplate(template=template, input_variables=[\"Table\",\"question\",\"Columns\"])"
   ]
  },
  {
   "cell_type": "code",
   "execution_count": 13,
   "id": "5b748cc9-7cf9-4690-9183-d2fcf9400372",
   "metadata": {},
   "outputs": [],
   "source": [
    "pipe = pipeline(\n",
    "    \"text-generation\",\n",
    "    model=base_model,\n",
    "    tokenizer=tokenizer,\n",
    "    max_length=500,\n",
    "    temperature=0.3,\n",
    "    top_p=0.95,\n",
    "    repetition_penalty=1.2\n",
    ")\n",
    "\n",
    "local_llm = HuggingFacePipeline(pipeline=pipe)\n",
    "llm_chain = LLMChain(prompt=prompt, llm=local_llm)"
   ]
  },
  {
   "cell_type": "code",
   "execution_count": 14,
   "id": "1a613ae8-0e61-40a5-80c1-2af393b6b05d",
   "metadata": {},
   "outputs": [],
   "source": [
    "def get_llm_response(tble,question,cols):\n",
    "    llm_chain = LLMChain(prompt=prompt, \n",
    "                         llm=local_llm\n",
    "                         )\n",
    "    response= llm_chain.run({\"Table\" : tble,\"question\" :question, \"Columns\" : cols})\n",
    "    print(response)"
   ]
  },
  {
   "cell_type": "code",
   "execution_count": null,
   "id": "994c356f-a7b6-4a58-bb33-e572e632a4bd",
   "metadata": {
    "scrolled": true
   },
   "outputs": [],
   "source": [
    "tble = \"employee\"\n",
    "cols = [\"id\",\"name\",\"date_of_birth\",\"band\",\"manager_id\"]\n",
    "question = \"Query the count of employees in band L6 with 239045 as the manager ID\"\n",
    "get_llm_response(tble,question,cols)"
   ]
  },
  {
   "cell_type": "code",
   "execution_count": 16,
   "id": "64749492-b012-4519-9b2b-5b963395e25f",
   "metadata": {},
   "outputs": [
    {
     "name": "stdout",
     "output_type": "stream",
     "text": [
      "Answer: SELECT COUNT(*) FROM employee WHERE band='L6' AND manager_id=239045;\n"
     ]
    }
   ],
   "source": [
    "get_llm_response(tble,question,cols)"
   ]
  },
  {
   "cell_type": "code",
   "execution_count": 17,
   "id": "f78da073-6cb0-4a81-bda2-50c6507377af",
   "metadata": {},
   "outputs": [
    {
     "name": "stdout",
     "output_type": "stream",
     "text": [
      "SELECT manager_id = 23904 AND count(employee) AS total_in_L6 FROM employee WHERE band = \"L6\";\n"
     ]
    }
   ],
   "source": [
    "question = \"請查出管理員ID是23904 並在 band L6 的員工數量\"\n",
    "get_llm_response(tble,question,cols)"
   ]
  },
  {
   "cell_type": "code",
   "execution_count": null,
   "id": "12592450-b4b1-4cbc-8eb8-64da571e6ee6",
   "metadata": {},
   "outputs": [],
   "source": []
  }
 ],
 "metadata": {
  "kernelspec": {
   "display_name": "Python 3 (ipykernel)",
   "language": "python",
   "name": "python3"
  },
  "language_info": {
   "codemirror_mode": {
    "name": "ipython",
    "version": 3
   },
   "file_extension": ".py",
   "mimetype": "text/x-python",
   "name": "python",
   "nbconvert_exporter": "python",
   "pygments_lexer": "ipython3",
   "version": "3.8.10"
  }
 },
 "nbformat": 4,
 "nbformat_minor": 5
}
